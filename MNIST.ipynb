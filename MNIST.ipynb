{
  "nbformat": 4,
  "nbformat_minor": 0,
  "metadata": {
    "colab": {
      "name": "MNIST.ipynb",
      "provenance": [],
      "collapsed_sections": [],
      "authorship_tag": "ABX9TyMGnN6C1PN7KnMshJJjOBIS",
      "include_colab_link": true
    },
    "kernelspec": {
      "name": "python3",
      "display_name": "Python 3"
    },
    "language_info": {
      "name": "python"
    },
    "accelerator": "GPU"
  },
  "cells": [
    {
      "cell_type": "markdown",
      "metadata": {
        "id": "view-in-github",
        "colab_type": "text"
      },
      "source": [
        "<a href=\"https://colab.research.google.com/github/csoren66/MNIST-Dataset-Digit-Recognizer/blob/main/MNIST.ipynb\" target=\"_parent\"><img src=\"https://colab.research.google.com/assets/colab-badge.svg\" alt=\"Open In Colab\"/></a>"
      ]
    },
    {
      "cell_type": "markdown",
      "source": [
        "#### **Part-1. Preprocessing of data**"
      ],
      "metadata": {
        "id": "cg0XpfSJzCXF"
      }
    },
    {
      "cell_type": "code",
      "execution_count": 263,
      "metadata": {
        "id": "VJmbSM1Ky0mC"
      },
      "outputs": [],
      "source": [
        "## import the libraries\n",
        "import tensorflow as tf\n",
        "import numpy as np\n",
        "import matplotlib.pyplot as plt\n",
        "import random\n",
        "from tensorflow.keras.utils import to_categorical\n",
        "## fetch the datasetes\n",
        "mnist = tf.keras.datasets.mnist\n",
        "(x_train, y_train), (x_test, y_test) = mnist.load_data()"
      ]
    },
    {
      "cell_type": "code",
      "source": [
        "## checking the dataset\n",
        "print(\"x_train: \", x_train.shape)\n",
        "print(\"y_train: \", y_train.shape)\n",
        "print(\"x_test: \", x_test.shape)\n",
        "print(\"y_test: \", x_test.shape)"
      ],
      "metadata": {
        "colab": {
          "base_uri": "https://localhost:8080/"
        },
        "id": "0dsZbH9G4fre",
        "outputId": "ff014c80-bdd3-4fee-82e3-7ab539666bc8"
      },
      "execution_count": 264,
      "outputs": [
        {
          "output_type": "stream",
          "name": "stdout",
          "text": [
            "x_train:  (60000, 28, 28)\n",
            "y_train:  (60000,)\n",
            "x_test:  (10000, 28, 28)\n",
            "y_test:  (10000, 28, 28)\n"
          ]
        }
      ]
    },
    {
      "cell_type": "code",
      "source": [
        ""
      ],
      "metadata": {
        "id": "M7sev3L-Mc6P"
      },
      "execution_count": 264,
      "outputs": []
    },
    {
      "cell_type": "code",
      "source": [
        "## let plot the image\n",
        "fig =plt.figure()\n",
        "\n",
        "for i in range(6):\n",
        "  plt.subplot(2,3,i+1)\n",
        "  plt.imshow(x_train[i], cmap='gray', interpolation='none')\n",
        "  plt.title(f\"label: {y_train[i]}\") ## the label\n",
        "  plt.xticks([])\n",
        "  fig.show()"
      ],
      "metadata": {
        "colab": {
          "base_uri": "https://localhost:8080/",
          "height": 267
        },
        "id": "aNP5cgug8VQF",
        "outputId": "e8cd6a6a-7083-480f-f9b3-19fc389e0ada"
      },
      "execution_count": 265,
      "outputs": [
        {
          "output_type": "display_data",
          "data": {
            "image/png": "[encoded data removed]",
            "text/plain": [
              "<Figure size 432x288 with 6 Axes>"
            ]
          },
          "metadata": {
            "needs_background": "light"
          }
        }
      ]
    },
    {
      "cell_type": "code",
      "source": [
        "#let explore the single sample\n",
        "NUM = 3\n",
        "print(f\"label: {y_train[NUM]}\")\n",
        "print(\"shape: \", x_train[NUM].shape)\n",
        "print(\"*\"*50)\n",
        "digit = x_train[NUM]\n",
        "print(digit)\n"
      ],
      "metadata": {
        "colab": {
          "base_uri": "https://localhost:8080/"
        },
        "id": "Sk5mLA85AV7p",
        "outputId": "e8cb7205-acd4-4ab5-ce69-1530e03d2c21"
      },
      "execution_count": 266,
      "outputs": [
        {
          "output_type": "stream",
          "name": "stdout",
          "text": [
            "label: 1\n",
            "shape:  (28, 28)\n",
            "**************************************************\n",
            "[[  0   0   0   0   0   0   0   0   0   0   0   0   0   0   0   0   0   0\n",
            "    0   0   0   0   0   0   0   0   0   0]\n",
            " [  0   0   0   0   0   0   0   0   0   0   0   0   0   0   0   0   0   0\n",
            "    0   0   0   0   0   0   0   0   0   0]\n",
            " [  0   0   0   0   0   0   0   0   0   0   0   0   0   0   0   0   0   0\n",
            "    0   0   0   0   0   0   0   0   0   0]\n",
            " [  0   0   0   0   0   0   0   0   0   0   0   0   0   0   0   0   0   0\n",
            "    0   0   0   0   0   0   0   0   0   0]\n",
            " [  0   0   0   0   0   0   0   0   0   0   0   0   0   0   0   0   0   0\n",
            "    0   0   0   0   0   0   0   0   0   0]\n",
            " [  0   0   0   0   0   0   0   0   0   0   0   0   0   0   0   0   0   0\n",
            "  124 253 255  63   0   0   0   0   0   0]\n",
            " [  0   0   0   0   0   0   0   0   0   0   0   0   0   0   0   0   0  96\n",
            "  244 251 253  62   0   0   0   0   0   0]\n",
            " [  0   0   0   0   0   0   0   0   0   0   0   0   0   0   0   0   0 127\n",
            "  251 251 253  62   0   0   0   0   0   0]\n",
            " [  0   0   0   0   0   0   0   0   0   0   0   0   0   0   0   0  68 236\n",
            "  251 211  31   8   0   0   0   0   0   0]\n",
            " [  0   0   0   0   0   0   0   0   0   0   0   0   0   0   0  60 228 251\n",
            "  251  94   0   0   0   0   0   0   0   0]\n",
            " [  0   0   0   0   0   0   0   0   0   0   0   0   0   0   0 155 253 253\n",
            "  189   0   0   0   0   0   0   0   0   0]\n",
            " [  0   0   0   0   0   0   0   0   0   0   0   0   0   0  20 253 251 235\n",
            "   66   0   0   0   0   0   0   0   0   0]\n",
            " [  0   0   0   0   0   0   0   0   0   0   0   0   0  32 205 253 251 126\n",
            "    0   0   0   0   0   0   0   0   0   0]\n",
            " [  0   0   0   0   0   0   0   0   0   0   0   0   0 104 251 253 184  15\n",
            "    0   0   0   0   0   0   0   0   0   0]\n",
            " [  0   0   0   0   0   0   0   0   0   0   0   0  80 240 251 193  23   0\n",
            "    0   0   0   0   0   0   0   0   0   0]\n",
            " [  0   0   0   0   0   0   0   0   0   0   0  32 253 253 253 159   0   0\n",
            "    0   0   0   0   0   0   0   0   0   0]\n",
            " [  0   0   0   0   0   0   0   0   0   0   0 151 251 251 251  39   0   0\n",
            "    0   0   0   0   0   0   0   0   0   0]\n",
            " [  0   0   0   0   0   0   0   0   0   0  48 221 251 251 172   0   0   0\n",
            "    0   0   0   0   0   0   0   0   0   0]\n",
            " [  0   0   0   0   0   0   0   0   0   0 234 251 251 196  12   0   0   0\n",
            "    0   0   0   0   0   0   0   0   0   0]\n",
            " [  0   0   0   0   0   0   0   0   0   0 253 251 251  89   0   0   0   0\n",
            "    0   0   0   0   0   0   0   0   0   0]\n",
            " [  0   0   0   0   0   0   0   0   0 159 255 253 253  31   0   0   0   0\n",
            "    0   0   0   0   0   0   0   0   0   0]\n",
            " [  0   0   0   0   0   0   0   0  48 228 253 247 140   8   0   0   0   0\n",
            "    0   0   0   0   0   0   0   0   0   0]\n",
            " [  0   0   0   0   0   0   0   0  64 251 253 220   0   0   0   0   0   0\n",
            "    0   0   0   0   0   0   0   0   0   0]\n",
            " [  0   0   0   0   0   0   0   0  64 251 253 220   0   0   0   0   0   0\n",
            "    0   0   0   0   0   0   0   0   0   0]\n",
            " [  0   0   0   0   0   0   0   0  24 193 253 220   0   0   0   0   0   0\n",
            "    0   0   0   0   0   0   0   0   0   0]\n",
            " [  0   0   0   0   0   0   0   0   0   0   0   0   0   0   0   0   0   0\n",
            "    0   0   0   0   0   0   0   0   0   0]\n",
            " [  0   0   0   0   0   0   0   0   0   0   0   0   0   0   0   0   0   0\n",
            "    0   0   0   0   0   0   0   0   0   0]\n",
            " [  0   0   0   0   0   0   0   0   0   0   0   0   0   0   0   0   0   0\n",
            "    0   0   0   0   0   0   0   0   0   0]]\n"
          ]
        }
      ]
    },
    {
      "cell_type": "code",
      "source": [
        "## prettify the matrix\n",
        "for i in digit:\n",
        "  print(*i, sep =\" \")"
      ],
      "metadata": {
        "colab": {
          "base_uri": "https://localhost:8080/"
        },
        "id": "Kc5WDIKrCIhh",
        "outputId": "56ac9434-352a-4207-da6c-cecfe444ec23"
      },
      "execution_count": 267,
      "outputs": [
        {
          "output_type": "stream",
          "name": "stdout",
          "text": [
            "0 0 0 0 0 0 0 0 0 0 0 0 0 0 0 0 0 0 0 0 0 0 0 0 0 0 0 0\n",
            "0 0 0 0 0 0 0 0 0 0 0 0 0 0 0 0 0 0 0 0 0 0 0 0 0 0 0 0\n",
            "0 0 0 0 0 0 0 0 0 0 0 0 0 0 0 0 0 0 0 0 0 0 0 0 0 0 0 0\n",
            "0 0 0 0 0 0 0 0 0 0 0 0 0 0 0 0 0 0 0 0 0 0 0 0 0 0 0 0\n",
            "0 0 0 0 0 0 0 0 0 0 0 0 0 0 0 0 0 0 0 0 0 0 0 0 0 0 0 0\n",
            "0 0 0 0 0 0 0 0 0 0 0 0 0 0 0 0 0 0 124 253 255 63 0 0 0 0 0 0\n",
            "0 0 0 0 0 0 0 0 0 0 0 0 0 0 0 0 0 96 244 251 253 62 0 0 0 0 0 0\n",
            "0 0 0 0 0 0 0 0 0 0 0 0 0 0 0 0 0 127 251 251 253 62 0 0 0 0 0 0\n",
            "0 0 0 0 0 0 0 0 0 0 0 0 0 0 0 0 68 236 251 211 31 8 0 0 0 0 0 0\n",
            "0 0 0 0 0 0 0 0 0 0 0 0 0 0 0 60 228 251 251 94 0 0 0 0 0 0 0 0\n",
            "0 0 0 0 0 0 0 0 0 0 0 0 0 0 0 155 253 253 189 0 0 0 0 0 0 0 0 0\n",
            "0 0 0 0 0 0 0 0 0 0 0 0 0 0 20 253 251 235 66 0 0 0 0 0 0 0 0 0\n",
            "0 0 0 0 0 0 0 0 0 0 0 0 0 32 205 253 251 126 0 0 0 0 0 0 0 0 0 0\n",
            "0 0 0 0 0 0 0 0 0 0 0 0 0 104 251 253 184 15 0 0 0 0 0 0 0 0 0 0\n",
            "0 0 0 0 0 0 0 0 0 0 0 0 80 240 251 193 23 0 0 0 0 0 0 0 0 0 0 0\n",
            "0 0 0 0 0 0 0 0 0 0 0 32 253 253 253 159 0 0 0 0 0 0 0 0 0 0 0 0\n",
            "0 0 0 0 0 0 0 0 0 0 0 151 251 251 251 39 0 0 0 0 0 0 0 0 0 0 0 0\n",
            "0 0 0 0 0 0 0 0 0 0 48 221 251 251 172 0 0 0 0 0 0 0 0 0 0 0 0 0\n",
            "0 0 0 0 0 0 0 0 0 0 234 251 251 196 12 0 0 0 0 0 0 0 0 0 0 0 0 0\n",
            "0 0 0 0 0 0 0 0 0 0 253 251 251 89 0 0 0 0 0 0 0 0 0 0 0 0 0 0\n",
            "0 0 0 0 0 0 0 0 0 159 255 253 253 31 0 0 0 0 0 0 0 0 0 0 0 0 0 0\n",
            "0 0 0 0 0 0 0 0 48 228 253 247 140 8 0 0 0 0 0 0 0 0 0 0 0 0 0 0\n",
            "0 0 0 0 0 0 0 0 64 251 253 220 0 0 0 0 0 0 0 0 0 0 0 0 0 0 0 0\n",
            "0 0 0 0 0 0 0 0 64 251 253 220 0 0 0 0 0 0 0 0 0 0 0 0 0 0 0 0\n",
            "0 0 0 0 0 0 0 0 24 193 253 220 0 0 0 0 0 0 0 0 0 0 0 0 0 0 0 0\n",
            "0 0 0 0 0 0 0 0 0 0 0 0 0 0 0 0 0 0 0 0 0 0 0 0 0 0 0 0\n",
            "0 0 0 0 0 0 0 0 0 0 0 0 0 0 0 0 0 0 0 0 0 0 0 0 0 0 0 0\n",
            "0 0 0 0 0 0 0 0 0 0 0 0 0 0 0 0 0 0 0 0 0 0 0 0 0 0 0 0\n"
          ]
        }
      ]
    },
    {
      "cell_type": "markdown",
      "source": [
        "#### **Preparing the input data**"
      ],
      "metadata": {
        "id": "SZaRlz6RFMg1"
      }
    },
    {
      "cell_type": "code",
      "source": [
        "## Reshape --> Flatten the matrix into one dimensional\n",
        "x_train = x_train.reshape(60000, 784)\n",
        "x_test = x_test.reshape(10000, 784)"
      ],
      "metadata": {
        "id": "ZVsnaoHLFBFq"
      },
      "execution_count": 268,
      "outputs": []
    },
    {
      "cell_type": "code",
      "source": [
        "## change the datatypes\n",
        "x_train = x_train.astype('float')\n",
        "x_test = x_test.astype('float')"
      ],
      "metadata": {
        "id": "yWSqOAypF88-"
      },
      "execution_count": 269,
      "outputs": []
    },
    {
      "cell_type": "markdown",
      "source": [
        "#### **Normalize the data**"
      ],
      "metadata": {
        "id": "edwzfOYsG-LM"
      }
    },
    {
      "cell_type": "code",
      "source": [
        "x_train /= 255\n",
        "x_test /= 255"
      ],
      "metadata": {
        "id": "71tJwGHjGglE"
      },
      "execution_count": 270,
      "outputs": []
    },
    {
      "cell_type": "code",
      "source": [
        "## checking the dataset after preprocess\n",
        "print(x_train.shape, x_test.shape)"
      ],
      "metadata": {
        "colab": {
          "base_uri": "https://localhost:8080/"
        },
        "id": "nI-orw2WHVNc",
        "outputId": "e1e16d57-8706-475a-b76e-7fb59a6b51c3"
      },
      "execution_count": 271,
      "outputs": [
        {
          "output_type": "stream",
          "name": "stdout",
          "text": [
            "(60000, 784) (10000, 784)\n"
          ]
        }
      ]
    },
    {
      "cell_type": "code",
      "source": [
        "print(max(x_train[0]),max(x_test[0]))"
      ],
      "metadata": {
        "colab": {
          "base_uri": "https://localhost:8080/"
        },
        "id": "6EVZgM_xIDIN",
        "outputId": "424a1f4d-91d9-4b5e-d418-9deb900ba4a7"
      },
      "execution_count": 272,
      "outputs": [
        {
          "output_type": "stream",
          "name": "stdout",
          "text": [
            "1.0 1.0\n"
          ]
        }
      ]
    },
    {
      "cell_type": "markdown",
      "source": [
        "#### **Preprocess the labels**"
      ],
      "metadata": {
        "id": "2Lbe3aHxI1zq"
      }
    },
    {
      "cell_type": "code",
      "source": [
        "y_train[2]"
      ],
      "metadata": {
        "colab": {
          "base_uri": "https://localhost:8080/"
        },
        "id": "4NZjBLcEIcqL",
        "outputId": "fb52ffe0-5c8f-46ee-88a8-1ea6d1fb6ae1"
      },
      "execution_count": 273,
      "outputs": [
        {
          "output_type": "execute_result",
          "data": {
            "text/plain": [
              "4"
            ]
          },
          "metadata": {},
          "execution_count": 273
        }
      ]
    },
    {
      "cell_type": "code",
      "source": [
        "## Processing step\n",
        "NUM_CLASSES = 10\n",
        "\n",
        "y_train = to_categorical(y_train, num_classes=NUM_CLASSES)\n",
        "y_test = to_categorical(y_test, num_classes=NUM_CLASSES)"
      ],
      "metadata": {
        "id": "N3b515QEJsif"
      },
      "execution_count": 274,
      "outputs": []
    },
    {
      "cell_type": "code",
      "source": [
        "y_train[2]"
      ],
      "metadata": {
        "colab": {
          "base_uri": "https://localhost:8080/"
        },
        "id": "gIL909K2KWrG",
        "outputId": "3c0e8e66-a5eb-4704-9096-35bb5c631f8e"
      },
      "execution_count": 275,
      "outputs": [
        {
          "output_type": "execute_result",
          "data": {
            "text/plain": [
              "array([0., 0., 0., 0., 1., 0., 0., 0., 0., 0.], dtype=float32)"
            ]
          },
          "metadata": {},
          "execution_count": 275
        }
      ]
    },
    {
      "cell_type": "markdown",
      "source": [
        "#### **Part-2. Creating a neural network model**"
      ],
      "metadata": {
        "id": "8j18glnMOXHG"
      }
    },
    {
      "cell_type": "code",
      "source": [
        "##import libraries\n",
        "from tensorflow.keras.models import Sequential\n",
        "from tensorflow.keras.layers import Dense, Activation"
      ],
      "metadata": {
        "id": "WgyU_ymqKbbt"
      },
      "execution_count": 276,
      "outputs": []
    },
    {
      "cell_type": "code",
      "source": [
        "## create the instance\n",
        "\n",
        "model = Sequential()"
      ],
      "metadata": {
        "id": "dSscZtuCPB3_"
      },
      "execution_count": 277,
      "outputs": []
    },
    {
      "cell_type": "code",
      "source": [
        "## add the first layer\n",
        "model.add(Dense(256, input_shape=(784,)))"
      ],
      "metadata": {
        "id": "SL7Ebg9tPlMO"
      },
      "execution_count": 278,
      "outputs": []
    },
    {
      "cell_type": "code",
      "source": [
        "## adding the first layers\n",
        "model.add(Activation('relu'))"
      ],
      "metadata": {
        "id": "pzmmfkfCQaPC"
      },
      "execution_count": 279,
      "outputs": []
    },
    {
      "cell_type": "code",
      "source": [
        "model.summary()"
      ],
      "metadata": {
        "colab": {
          "base_uri": "https://localhost:8080/"
        },
        "id": "_bGIw3rZR8d9",
        "outputId": "5f1bdf56-6d48-4edd-fb6f-078821321ecf"
      },
      "execution_count": 280,
      "outputs": [
        {
          "output_type": "stream",
          "name": "stdout",
          "text": [
            "Model: \"sequential_4\"\n",
            "_________________________________________________________________\n",
            " Layer (type)                Output Shape              Param #   \n",
            "=================================================================\n",
            " dense_12 (Dense)            (None, 256)               200960    \n",
            "                                                                 \n",
            " activation_4 (Activation)   (None, 256)               0         \n",
            "                                                                 \n",
            "=================================================================\n",
            "Total params: 200,960\n",
            "Trainable params: 200,960\n",
            "Non-trainable params: 0\n",
            "_________________________________________________________________\n"
          ]
        }
      ]
    },
    {
      "cell_type": "code",
      "source": [
        "model.add(Dense(256, activation=\"relu\"))"
      ],
      "metadata": {
        "id": "xj2dpArpSABO"
      },
      "execution_count": 281,
      "outputs": []
    },
    {
      "cell_type": "code",
      "source": [
        "## add the output layer\n",
        "model.add(Dense(NUM_CLASSES, activation=\"softmax\")) ## NUM_CLASSES == 10"
      ],
      "metadata": {
        "id": "koCao8aqTLMq"
      },
      "execution_count": 282,
      "outputs": []
    },
    {
      "cell_type": "code",
      "source": [
        "model.summary()"
      ],
      "metadata": {
        "colab": {
          "base_uri": "https://localhost:8080/"
        },
        "id": "_i9342dQT7Xg",
        "outputId": "548d1e14-c6a6-4612-b7b5-ad75e2902399"
      },
      "execution_count": 283,
      "outputs": [
        {
          "output_type": "stream",
          "name": "stdout",
          "text": [
            "Model: \"sequential_4\"\n",
            "_________________________________________________________________\n",
            " Layer (type)                Output Shape              Param #   \n",
            "=================================================================\n",
            " dense_12 (Dense)            (None, 256)               200960    \n",
            "                                                                 \n",
            " activation_4 (Activation)   (None, 256)               0         \n",
            "                                                                 \n",
            " dense_13 (Dense)            (None, 256)               65792     \n",
            "                                                                 \n",
            " dense_14 (Dense)            (None, 10)                2570      \n",
            "                                                                 \n",
            "=================================================================\n",
            "Total params: 269,322\n",
            "Trainable params: 269,322\n",
            "Non-trainable params: 0\n",
            "_________________________________________________________________\n"
          ]
        }
      ]
    },
    {
      "cell_type": "code",
      "source": [
        "## compile the model now\n",
        "model.compile(\n",
        "    optimizer='sgd',\n",
        "    loss='categorical_crossentropy',\n",
        "    metrics=['accuracy']\n",
        ")"
      ],
      "metadata": {
        "id": "asRrlyV0UEFz"
      },
      "execution_count": 284,
      "outputs": []
    },
    {
      "cell_type": "markdown",
      "source": [
        "#### **Part-3. Training the network**"
      ],
      "metadata": {
        "id": "YAQJAM2miXDJ"
      }
    },
    {
      "cell_type": "code",
      "source": [
        "EPOCHS = 10\n",
        "BATCH_SIZE = 128"
      ],
      "metadata": {
        "id": "3ygoiQzciPb6"
      },
      "execution_count": 285,
      "outputs": []
    },
    {
      "cell_type": "code",
      "source": [
        "history = model.fit(\n",
        "    x=x_train,\n",
        "    y=y_train,\n",
        "    epochs=EPOCHS,\n",
        "    batch_size=BATCH_SIZE,\n",
        "    shuffle=True,\n",
        "    validation_split=0.2\n",
        ")"
      ],
      "metadata": {
        "colab": {
          "base_uri": "https://localhost:8080/"
        },
        "id": "cvqDDGFHi9VI",
        "outputId": "5ee25212-dd00-4ed7-927d-88cd885689ee"
      },
      "execution_count": 286,
      "outputs": [
        {
          "output_type": "stream",
          "name": "stdout",
          "text": [
            "Epoch 1/10\n",
            "375/375 [==============================] - 2s 5ms/step - loss: 1.3547 - accuracy: 0.6818 - val_loss: 0.6803 - val_accuracy: 0.8528\n",
            "Epoch 2/10\n",
            "375/375 [==============================] - 2s 4ms/step - loss: 0.5598 - accuracy: 0.8616 - val_loss: 0.4316 - val_accuracy: 0.8875\n",
            "Epoch 3/10\n",
            "375/375 [==============================] - 2s 4ms/step - loss: 0.4210 - accuracy: 0.8855 - val_loss: 0.3597 - val_accuracy: 0.9019\n",
            "Epoch 4/10\n",
            "375/375 [==============================] - 2s 4ms/step - loss: 0.3665 - accuracy: 0.8966 - val_loss: 0.3245 - val_accuracy: 0.9093\n",
            "Epoch 5/10\n",
            "375/375 [==============================] - 2s 4ms/step - loss: 0.3346 - accuracy: 0.9039 - val_loss: 0.3009 - val_accuracy: 0.9150\n",
            "Epoch 6/10\n",
            "375/375 [==============================] - 2s 4ms/step - loss: 0.3126 - accuracy: 0.9097 - val_loss: 0.2850 - val_accuracy: 0.9194\n",
            "Epoch 7/10\n",
            "375/375 [==============================] - 2s 4ms/step - loss: 0.2948 - accuracy: 0.9149 - val_loss: 0.2726 - val_accuracy: 0.9231\n",
            "Epoch 8/10\n",
            "375/375 [==============================] - 2s 4ms/step - loss: 0.2805 - accuracy: 0.9186 - val_loss: 0.2596 - val_accuracy: 0.9278\n",
            "Epoch 9/10\n",
            "375/375 [==============================] - 2s 4ms/step - loss: 0.2680 - accuracy: 0.9229 - val_loss: 0.2486 - val_accuracy: 0.9306\n",
            "Epoch 10/10\n",
            "375/375 [==============================] - 2s 4ms/step - loss: 0.2569 - accuracy: 0.9270 - val_loss: 0.2401 - val_accuracy: 0.9326\n"
          ]
        }
      ]
    },
    {
      "cell_type": "code",
      "source": [
        "BATCH_SIZE"
      ],
      "metadata": {
        "id": "X-wd0XRxkE9-",
        "colab": {
          "base_uri": "https://localhost:8080/"
        },
        "outputId": "f4d72153-802d-4fe1-a76b-4eeb5e201966"
      },
      "execution_count": 287,
      "outputs": [
        {
          "output_type": "execute_result",
          "data": {
            "text/plain": [
              "128"
            ]
          },
          "metadata": {},
          "execution_count": 287
        }
      ]
    },
    {
      "cell_type": "code",
      "source": [
        "  total_step = 60000 / BATCH_SIZE"
      ],
      "metadata": {
        "id": "tar1GbLBhl69"
      },
      "execution_count": 288,
      "outputs": []
    },
    {
      "cell_type": "code",
      "source": [
        "validation_split = 0.2\n",
        "training_split = 0.8"
      ],
      "metadata": {
        "id": "WhpPCJ9zhv-x"
      },
      "execution_count": 289,
      "outputs": []
    },
    {
      "cell_type": "code",
      "source": [
        "total_step * training_split"
      ],
      "metadata": {
        "colab": {
          "base_uri": "https://localhost:8080/"
        },
        "id": "IFB0j236iXDD",
        "outputId": "ad29864c-a3a8-4839-8251-9b98174dde1b"
      },
      "execution_count": 290,
      "outputs": [
        {
          "output_type": "execute_result",
          "data": {
            "text/plain": [
              "375.0"
            ]
          },
          "metadata": {},
          "execution_count": 290
        }
      ]
    },
    {
      "cell_type": "code",
      "source": [
        "dir(history)"
      ],
      "metadata": {
        "colab": {
          "base_uri": "https://localhost:8080/"
        },
        "id": "5_UJTEZxicrU",
        "outputId": "dc3b08db-fb79-421c-f70b-c07ae7df18b1"
      },
      "execution_count": 291,
      "outputs": [
        {
          "output_type": "execute_result",
          "data": {
            "text/plain": [
              "['__class__',\n",
              " '__delattr__',\n",
              " '__dict__',\n",
              " '__dir__',\n",
              " '__doc__',\n",
              " '__eq__',\n",
              " '__format__',\n",
              " '__ge__',\n",
              " '__getattribute__',\n",
              " '__gt__',\n",
              " '__hash__',\n",
              " '__init__',\n",
              " '__init_subclass__',\n",
              " '__le__',\n",
              " '__lt__',\n",
              " '__module__',\n",
              " '__ne__',\n",
              " '__new__',\n",
              " '__reduce__',\n",
              " '__reduce_ex__',\n",
              " '__repr__',\n",
              " '__setattr__',\n",
              " '__sizeof__',\n",
              " '__str__',\n",
              " '__subclasshook__',\n",
              " '__weakref__',\n",
              " '_chief_worker_only',\n",
              " '_implements_predict_batch_hooks',\n",
              " '_implements_test_batch_hooks',\n",
              " '_implements_train_batch_hooks',\n",
              " '_keras_api_names',\n",
              " '_keras_api_names_v1',\n",
              " '_supports_tf_logs',\n",
              " 'epoch',\n",
              " 'history',\n",
              " 'model',\n",
              " 'on_batch_begin',\n",
              " 'on_batch_end',\n",
              " 'on_epoch_begin',\n",
              " 'on_epoch_end',\n",
              " 'on_predict_batch_begin',\n",
              " 'on_predict_batch_end',\n",
              " 'on_predict_begin',\n",
              " 'on_predict_end',\n",
              " 'on_test_batch_begin',\n",
              " 'on_test_batch_end',\n",
              " 'on_test_begin',\n",
              " 'on_test_end',\n",
              " 'on_train_batch_begin',\n",
              " 'on_train_batch_end',\n",
              " 'on_train_begin',\n",
              " 'on_train_end',\n",
              " 'params',\n",
              " 'set_model',\n",
              " 'set_params',\n",
              " 'validation_data']"
            ]
          },
          "metadata": {},
          "execution_count": 291
        }
      ]
    },
    {
      "cell_type": "code",
      "source": [
        "history.history.keys()"
      ],
      "metadata": {
        "colab": {
          "base_uri": "https://localhost:8080/"
        },
        "id": "7Dp2gf-tjUUD",
        "outputId": "4beef9a2-ea59-47fe-c3f3-dade84a1fd9b"
      },
      "execution_count": 292,
      "outputs": [
        {
          "output_type": "execute_result",
          "data": {
            "text/plain": [
              "dict_keys(['loss', 'accuracy', 'val_loss', 'val_accuracy'])"
            ]
          },
          "metadata": {},
          "execution_count": 292
        }
      ]
    },
    {
      "cell_type": "code",
      "source": [
        "for i in history.history.keys():\n",
        "  print(i, history.history[i])"
      ],
      "metadata": {
        "colab": {
          "base_uri": "https://localhost:8080/"
        },
        "id": "Mvw--tdQjmq2",
        "outputId": "6f7e42cd-950f-429a-8524-3ec67ef6a2c9"
      },
      "execution_count": 293,
      "outputs": [
        {
          "output_type": "stream",
          "name": "stdout",
          "text": [
            "loss [1.3546597957611084, 0.5598268508911133, 0.42104560136795044, 0.36645230650901794, 0.3346061706542969, 0.3125745356082916, 0.29476112127304077, 0.2805415093898773, 0.2679503560066223, 0.25691676139831543]\n",
            "accuracy [0.6818333268165588, 0.8616041541099548, 0.8855208158493042, 0.8966249823570251, 0.9039375185966492, 0.9096666574478149, 0.9148541688919067, 0.9186041951179504, 0.9228958487510681, 0.9270208477973938]\n",
            "val_loss [0.6802529096603394, 0.4316064417362213, 0.35966524481773376, 0.324532151222229, 0.3009105324745178, 0.2850469648838043, 0.27255779504776, 0.25959914922714233, 0.24859082698822021, 0.2400941550731659]\n",
            "val_accuracy [0.8528333306312561, 0.887499988079071, 0.9019166827201843, 0.909333348274231, 0.9150000214576721, 0.9194166660308838, 0.9230833053588867, 0.9278333187103271, 0.9305833578109741, 0.9325833320617676]\n"
          ]
        }
      ]
    },
    {
      "cell_type": "markdown",
      "source": [
        "#### Plotting the result"
      ],
      "metadata": {
        "id": "hDtaWtpikgiM"
      }
    },
    {
      "cell_type": "code",
      "source": [
        "def plot_history(history):\n",
        "  fig = plt.figure(figsize=(10, 4))\n",
        "  ## accuracy plot\n",
        "  plt.subplot(1,2,1)\n",
        "  plt.plot(history.history['accuracy'])\n",
        "  plt.plot(history.history['val_accuracy'])\n",
        "  plt.title('Accuracy of the model')\n",
        "  plt.xlabel('Epoch')\n",
        "  plt.ylabel('Accuracy')\n",
        "  plt.legend(['train'], ['test'], loc = 'lower right')\n",
        "\n",
        "  ## loss plot\n",
        "  plt.subplot(1,2,2)\n",
        "  plt.plot(history.history['loss'])\n",
        "  plt.plot(history.history['val_loss'])\n",
        "  plt.title('Loss of the model')\n",
        "  plt.xlabel('Epoch')\n",
        "  plt.ylabel('Loss')\n",
        "  plt.legend(['train'], ['test'], loc = 'upper right')\n",
        "\n",
        "  plt.tight_layout()\n",
        "\n",
        "  fig.show();\n",
        "\n",
        "plot_history(history)\n"
      ],
      "metadata": {
        "colab": {
          "base_uri": "https://localhost:8080/",
          "height": 418
        },
        "id": "30-grdKAkHyV",
        "outputId": "56552056-5162-46b5-e9c9-8ff9816b5cc3"
      },
      "execution_count": 294,
      "outputs": [
        {
          "output_type": "stream",
          "name": "stderr",
          "text": [
            "/usr/local/lib/python3.7/dist-packages/ipykernel_launcher.py:10: UserWarning: Legend does not support 'train' instances.\n",
            "A proxy artist may be used instead.\n",
            "See: http://matplotlib.org/users/legend_guide.html#creating-artists-specifically-for-adding-to-the-legend-aka-proxy-artists\n",
            "  # Remove the CWD from sys.path while we load stuff.\n",
            "/usr/local/lib/python3.7/dist-packages/ipykernel_launcher.py:19: UserWarning: Legend does not support 'train' instances.\n",
            "A proxy artist may be used instead.\n",
            "See: http://matplotlib.org/users/legend_guide.html#creating-artists-specifically-for-adding-to-the-legend-aka-proxy-artists\n"
          ]
        },
        {
          "output_type": "display_data",
          "data": {
            "image/png": "[encoded data removed]",
            "text/plain": [
              "<Figure size 720x288 with 2 Axes>"
            ]
          },
          "metadata": {
            "needs_background": "light"
          }
        }
      ]
    },
    {
      "cell_type": "markdown",
      "source": [
        "#### Save and loding of model"
      ],
      "metadata": {
        "id": "BWiv0gg3IBGp"
      }
    },
    {
      "cell_type": "code",
      "source": [
        "## lets create the folder to save the model\n",
        "!mkdir -p models"
      ],
      "metadata": {
        "id": "_FgHZKOUpAJl"
      },
      "execution_count": 295,
      "outputs": []
    },
    {
      "cell_type": "code",
      "source": [
        "## Lets save the whole model as hdf5 file\n",
        "model.save(\"models/model_basic_v1.h5\") "
      ],
      "metadata": {
        "id": "j7dbQ4xHIboI"
      },
      "execution_count": 296,
      "outputs": []
    },
    {
      "cell_type": "code",
      "source": [
        "## check saved model\n",
        "!ls models"
      ],
      "metadata": {
        "colab": {
          "base_uri": "https://localhost:8080/"
        },
        "id": "XVl_XjokJSDP",
        "outputId": "32e5ae85-329f-4d7e-fc9d-a791772bf1a8"
      },
      "execution_count": 297,
      "outputs": [
        {
          "output_type": "stream",
          "name": "stdout",
          "text": [
            "model_arch_v1.json  model_basic_v1.h5  model_best_v3.h5  model_weights_v1.h5\n"
          ]
        }
      ]
    },
    {
      "cell_type": "code",
      "source": [
        "## load saved model\n",
        "model_loaded = tf.keras.models.load_model(\"models/model_basic_v1.h5\")"
      ],
      "metadata": {
        "id": "Ycc20BnrJXF4"
      },
      "execution_count": 298,
      "outputs": []
    },
    {
      "cell_type": "code",
      "source": [
        "model_loaded.summary()"
      ],
      "metadata": {
        "colab": {
          "base_uri": "https://localhost:8080/"
        },
        "id": "lRRq24qqJi0S",
        "outputId": "ea381c4a-f7ed-4d3d-fd86-852ac5c97917"
      },
      "execution_count": 299,
      "outputs": [
        {
          "output_type": "stream",
          "name": "stdout",
          "text": [
            "Model: \"sequential_4\"\n",
            "_________________________________________________________________\n",
            " Layer (type)                Output Shape              Param #   \n",
            "=================================================================\n",
            " dense_12 (Dense)            (None, 256)               200960    \n",
            "                                                                 \n",
            " activation_4 (Activation)   (None, 256)               0         \n",
            "                                                                 \n",
            " dense_13 (Dense)            (None, 256)               65792     \n",
            "                                                                 \n",
            " dense_14 (Dense)            (None, 10)                2570      \n",
            "                                                                 \n",
            "=================================================================\n",
            "Total params: 269,322\n",
            "Trainable params: 269,322\n",
            "Non-trainable params: 0\n",
            "_________________________________________________________________\n"
          ]
        }
      ]
    },
    {
      "cell_type": "code",
      "source": [
        "## lets serialized and save the model architecture and wieghts separately\n",
        "## we will miss in next section\n",
        "model_json = model.to_json()\n",
        "with open(\"models/model_arch_v1.json\", \"w\") as json_file:\n",
        "  json_file.write(model_json)\n",
        "\n",
        "## serialize and save weights to HDF5\n",
        "model.save_weights(\"models/model_weights_v1.h5\")"
      ],
      "metadata": {
        "id": "ayavoqToJ30p"
      },
      "execution_count": 300,
      "outputs": []
    },
    {
      "cell_type": "code",
      "source": [
        "!ls models"
      ],
      "metadata": {
        "colab": {
          "base_uri": "https://localhost:8080/"
        },
        "id": "0pjqBX3zM7R1",
        "outputId": "8fe066d1-5a0c-4780-b557-9ba769c1e7bc"
      },
      "execution_count": 301,
      "outputs": [
        {
          "output_type": "stream",
          "name": "stdout",
          "text": [
            "model_arch_v1.json  model_basic_v1.h5  model_best_v3.h5  model_weights_v1.h5\n"
          ]
        }
      ]
    },
    {
      "cell_type": "markdown",
      "source": [
        "#### Lets add some callbacks to make it do stuff for us\n"
      ],
      "metadata": {
        "id": "Gvu7YnJ5QtD2"
      }
    },
    {
      "cell_type": "code",
      "source": [
        "## Let load the model architecture so we train new model to scretch\n",
        "with open('models/model_arch_v1.json', 'r') as json_file:\n",
        "  model_v2_json = json_file.read()\n",
        "\n",
        "model_v2 = tf.keras.models.model_from_json(model_v2_json)"
      ],
      "metadata": {
        "id": "Kh4DrOnqM_lu"
      },
      "execution_count": 302,
      "outputs": []
    },
    {
      "cell_type": "code",
      "source": [
        "model.summary()"
      ],
      "metadata": {
        "colab": {
          "base_uri": "https://localhost:8080/"
        },
        "id": "PXkxAo3UN-vo",
        "outputId": "0035e880-eb7a-4e64-f44b-910d3a2f3234"
      },
      "execution_count": 303,
      "outputs": [
        {
          "output_type": "stream",
          "name": "stdout",
          "text": [
            "Model: \"sequential_4\"\n",
            "_________________________________________________________________\n",
            " Layer (type)                Output Shape              Param #   \n",
            "=================================================================\n",
            " dense_12 (Dense)            (None, 256)               200960    \n",
            "                                                                 \n",
            " activation_4 (Activation)   (None, 256)               0         \n",
            "                                                                 \n",
            " dense_13 (Dense)            (None, 256)               65792     \n",
            "                                                                 \n",
            " dense_14 (Dense)            (None, 10)                2570      \n",
            "                                                                 \n",
            "=================================================================\n",
            "Total params: 269,322\n",
            "Trainable params: 269,322\n",
            "Non-trainable params: 0\n",
            "_________________________________________________________________\n"
          ]
        }
      ]
    },
    {
      "cell_type": "code",
      "source": [
        "## import callback from keras \n",
        "from tensorflow.keras.callbacks import EarlyStopping, ModelCheckpoint"
      ],
      "metadata": {
        "id": "cwDrsqSaTKez"
      },
      "execution_count": 324,
      "outputs": []
    },
    {
      "cell_type": "code",
      "source": [
        "## early stopping callback\n",
        "earlystop = EarlyStopping(\n",
        "    patience = 3,\n",
        "    monitor = \"val_loss\" ,\n",
        "    mode = 'min',\n",
        "    verbose = 1\n",
        ")\n"
      ],
      "metadata": {
        "id": "TJ6kdkO-T2z0"
      },
      "execution_count": 305,
      "outputs": []
    },
    {
      "cell_type": "code",
      "source": [
        "## model check pointing callback\n",
        "checkpoint = ModelCheckpoint(\n",
        "    filepath=\"models/model_best_v3.h5\",\n",
        "    monitor=\"val_loss\",\n",
        "    save_best_only=True,\n",
        "    mode='min',\n",
        "    verbose=1\n",
        "    )"
      ],
      "metadata": {
        "id": "Lh05UyCSVpJn"
      },
      "execution_count": 325,
      "outputs": []
    },
    {
      "cell_type": "markdown",
      "source": [
        "#### Lets add optimizer with a different learning rate as well"
      ],
      "metadata": {
        "id": "C58NC6qJZH07"
      }
    },
    {
      "cell_type": "code",
      "source": [
        "from tensorflow.keras.optimizers import SGD"
      ],
      "metadata": {
        "id": "OMiI7-ciZF47"
      },
      "execution_count": 326,
      "outputs": []
    },
    {
      "cell_type": "code",
      "source": [
        "optimizer = SGD(learning_rate=0.001)"
      ],
      "metadata": {
        "id": "lcgbIcviZhR_"
      },
      "execution_count": 327,
      "outputs": []
    },
    {
      "cell_type": "code",
      "source": [
        "## model compile\n",
        "model_v2.compile(\n",
        "    optimizer=optimizer,\n",
        "    loss='categorical_crossentropy',\n",
        "    metrics=['accuracy'],\n",
        ")"
      ],
      "metadata": {
        "id": "mmkV5sgbZs5S"
      },
      "execution_count": 328,
      "outputs": []
    },
    {
      "cell_type": "code",
      "source": [
        "## train the model with callbacks\n",
        "history2 = model_v2.fit(\n",
        "    x=x_train,\n",
        "    y=y_train,\n",
        "    batch_size=BATCH_SIZE,\n",
        "    epochs=EPOCHS,\n",
        "    shuffle=True,\n",
        "    validation_split=0.2\n",
        ")"
      ],
      "metadata": {
        "colab": {
          "base_uri": "https://localhost:8080/"
        },
        "id": "-eC3ABUqac5n",
        "outputId": "5c8738f6-ba12-48ba-8e82-549ccea95d54"
      },
      "execution_count": 338,
      "outputs": [
        {
          "output_type": "stream",
          "name": "stdout",
          "text": [
            "Epoch 1/10\n",
            "375/375 [==============================] - 2s 4ms/step - loss: 1.7737 - accuracy: 0.6530 - val_loss: 1.6529 - val_accuracy: 0.7091\n",
            "Epoch 2/10\n",
            "375/375 [==============================] - 2s 4ms/step - loss: 1.5569 - accuracy: 0.7147 - val_loss: 1.4334 - val_accuracy: 0.7554\n",
            "Epoch 3/10\n",
            "375/375 [==============================] - 2s 4ms/step - loss: 1.3497 - accuracy: 0.7528 - val_loss: 1.2318 - val_accuracy: 0.7841\n",
            "Epoch 4/10\n",
            "375/375 [==============================] - 2s 4ms/step - loss: 1.1677 - accuracy: 0.7764 - val_loss: 1.0616 - val_accuracy: 0.8074\n",
            "Epoch 5/10\n",
            "375/375 [==============================] - 2s 4ms/step - loss: 1.0190 - accuracy: 0.7962 - val_loss: 0.9264 - val_accuracy: 0.8214\n",
            "Epoch 6/10\n",
            "375/375 [==============================] - 2s 4ms/step - loss: 0.9026 - accuracy: 0.8102 - val_loss: 0.8222 - val_accuracy: 0.8332\n",
            "Epoch 7/10\n",
            "375/375 [==============================] - 2s 4ms/step - loss: 0.8126 - accuracy: 0.8226 - val_loss: 0.7421 - val_accuracy: 0.8428\n",
            "Epoch 8/10\n",
            "375/375 [==============================] - 2s 4ms/step - loss: 0.7428 - accuracy: 0.8317 - val_loss: 0.6797 - val_accuracy: 0.8508\n",
            "Epoch 9/10\n",
            "375/375 [==============================] - 2s 4ms/step - loss: 0.6874 - accuracy: 0.8393 - val_loss: 0.6298 - val_accuracy: 0.8587\n",
            "Epoch 10/10\n",
            "375/375 [==============================] - 2s 4ms/step - loss: 0.6429 - accuracy: 0.8465 - val_loss: 0.5898 - val_accuracy: 0.8631\n"
          ]
        }
      ]
    },
    {
      "cell_type": "code",
      "source": [
        "## lets first create a function to plot loss and accuracy\n",
        "\n",
        "def plot_history(history):\n",
        "  fig = plt.figure(figsize=(10, 4))\n",
        "  ## accuracy plot\n",
        "  plt.subplot(1, 2, 1)\n",
        "  plt.plot(history.history['accuracy'])\n",
        "  plt.plot(history.history['val_accuracy'])\n",
        "  plt.title('Accuracy of Model 2')\n",
        "  plt.xlabel('Epochs')\n",
        "  plt.ylabel('Accuracy')\n",
        "  plt.legend(['train', 'test'], loc='lower right')\n",
        "\n",
        "  ## loss plot\n",
        "  plt.subplot(1, 2, 2)\n",
        "  plt.plot(history.history['loss'])\n",
        "  plt.plot(history.history['val_loss'])\n",
        "  plt.title('Loss of Model 2')\n",
        "  plt.xlabel('Epochs')\n",
        "  plt.ylabel('Loss')\n",
        "  plt.legend(['train', 'test'], loc='upper right')\n",
        "\n",
        "  plt.tight_layout()\n",
        "\n",
        "  fig.show();"
      ],
      "metadata": {
        "id": "uLFoBB_vbCj4"
      },
      "execution_count": 339,
      "outputs": []
    },
    {
      "cell_type": "code",
      "source": [
        "plot_history(history2)"
      ],
      "metadata": {
        "colab": {
          "base_uri": "https://localhost:8080/",
          "height": 297
        },
        "id": "2I3gmcRUsSWQ",
        "outputId": "867063c9-cd3d-47de-ee5b-cdf05eee1c8f"
      },
      "execution_count": 340,
      "outputs": [
        {
          "output_type": "display_data",
          "data": {
            "image/png": "[encoded data removed]",
            "text/plain": [
              "<Figure size 720x288 with 2 Axes>"
            ]
          },
          "metadata": {
            "needs_background": "light"
          }
        }
      ]
    },
    {
      "cell_type": "markdown",
      "source": [
        "####Testing and Evaluating the model"
      ],
      "metadata": {
        "id": "nkjOMHhqtX18"
      }
    },
    {
      "cell_type": "code",
      "source": [
        "predict_x=model.predict(x_test) \n",
        "classes_x=np.argmax(predict_x,axis=1)"
      ],
      "metadata": {
        "id": "ARbqJI2utMGE"
      },
      "execution_count": 349,
      "outputs": []
    },
    {
      "cell_type": "code",
      "source": [
        "print(predictions)\n",
        "print(predictions.round(2))"
      ],
      "metadata": {
        "colab": {
          "base_uri": "https://localhost:8080/"
        },
        "id": "ZIaG7CsjtSOX",
        "outputId": "e73d95e2-3678-4d28-f616-138932ea3d7a"
      },
      "execution_count": 350,
      "outputs": [
        {
          "output_type": "stream",
          "name": "stdout",
          "text": [
            "[[2.6816537e-03 3.8969709e-04 4.5815320e-03 7.7980128e-03 1.4414586e-02\n",
            "  7.7913669e-03 7.4694294e-04 9.1886598e-01 6.5158596e-03 3.6214292e-02]\n",
            " [7.2145626e-02 9.7540766e-03 3.1560212e-01 1.8901549e-01 7.4100925e-04\n",
            "  1.3062920e-01 2.2542602e-01 7.7185780e-04 5.4265153e-02 1.6494605e-03]\n",
            " [6.9199307e-03 8.0305105e-01 5.7751369e-02 2.3335833e-02 1.0971880e-02\n",
            "  1.4121497e-02 1.7654656e-02 1.2984587e-02 4.0527415e-02 1.2681707e-02]\n",
            " [9.6544445e-01 1.4803325e-05 2.7293423e-03 1.7089010e-03 9.5967676e-05\n",
            "  2.1846175e-02 5.3685540e-03 1.0464240e-03 9.3859411e-04 8.0675783e-04]\n",
            " [1.7368391e-02 1.5682497e-03 4.4854380e-02 7.4446867e-03 5.9061933e-01\n",
            "  1.8189501e-02 3.9968539e-02 7.4279115e-02 3.6133587e-02 1.6957425e-01]\n",
            " [1.4919622e-03 9.0432870e-01 2.8495692e-02 1.4856562e-02 3.5862164e-03\n",
            "  5.8309715e-03 3.1659359e-03 6.4063324e-03 2.5825404e-02 6.0122865e-03]]\n",
            "[[0.   0.   0.   0.01 0.01 0.01 0.   0.92 0.01 0.04]\n",
            " [0.07 0.01 0.32 0.19 0.   0.13 0.23 0.   0.05 0.  ]\n",
            " [0.01 0.8  0.06 0.02 0.01 0.01 0.02 0.01 0.04 0.01]\n",
            " [0.97 0.   0.   0.   0.   0.02 0.01 0.   0.   0.  ]\n",
            " [0.02 0.   0.04 0.01 0.59 0.02 0.04 0.07 0.04 0.17]\n",
            " [0.   0.9  0.03 0.01 0.   0.01 0.   0.01 0.03 0.01]]\n"
          ]
        }
      ]
    },
    {
      "cell_type": "code",
      "source": [
        "prediction_classes = np.argmax(predictions, axis=-1)\n",
        "print(prediction_classes)"
      ],
      "metadata": {
        "colab": {
          "base_uri": "https://localhost:8080/"
        },
        "id": "hcj0R8Q_tlB0",
        "outputId": "bdea3972-31e3-4c92-dbf1-86848afa07a3"
      },
      "execution_count": 331,
      "outputs": [
        {
          "output_type": "stream",
          "name": "stdout",
          "text": [
            "[4 3 1 0 2 1]\n"
          ]
        }
      ]
    },
    {
      "cell_type": "code",
      "source": [
        "## now lets check the actual labels from y_test\n",
        "print(y_test[:SAMPLES])"
      ],
      "metadata": {
        "colab": {
          "base_uri": "https://localhost:8080/"
        },
        "id": "J5_w0So3towe",
        "outputId": "c6797444-68d7-436a-e85f-0a1b627f4f20"
      },
      "execution_count": 351,
      "outputs": [
        {
          "output_type": "stream",
          "name": "stdout",
          "text": [
            "[[0. 0. 0. 0. 0. 0. 0. 1. 0. 0.]\n",
            " [0. 0. 1. 0. 0. 0. 0. 0. 0. 0.]\n",
            " [0. 1. 0. 0. 0. 0. 0. 0. 0. 0.]\n",
            " [1. 0. 0. 0. 0. 0. 0. 0. 0. 0.]\n",
            " [0. 0. 0. 0. 1. 0. 0. 0. 0. 0.]\n",
            " [0. 1. 0. 0. 0. 0. 0. 0. 0. 0.]]\n"
          ]
        }
      ]
    },
    {
      "cell_type": "code",
      "source": [
        "## extract the labels classes from y_test\n",
        "actual_classes = np.argmax(y_test[:SAMPLES], axis=-1)\n",
        "print(actual_classes)"
      ],
      "metadata": {
        "colab": {
          "base_uri": "https://localhost:8080/"
        },
        "id": "4Wfk8R6atttB",
        "outputId": "df3e3684-5eed-4dc5-a98a-5b864f3e87c7"
      },
      "execution_count": 333,
      "outputs": [
        {
          "output_type": "stream",
          "name": "stdout",
          "text": [
            "[7 2 1 0 4 1]\n"
          ]
        }
      ]
    },
    {
      "cell_type": "markdown",
      "source": [
        "####Now lets do that with all the test images"
      ],
      "metadata": {
        "id": "ChaafLvqt1n_"
      }
    },
    {
      "cell_type": "code",
      "source": [
        "score = model_v2.evaluate(x_test, y_test, return_dict=True)"
      ],
      "metadata": {
        "colab": {
          "base_uri": "https://localhost:8080/"
        },
        "id": "Ag4lKgkOtw0m",
        "outputId": "2340dba4-d1ee-424b-e249-51ec70f52b73"
      },
      "execution_count": 334,
      "outputs": [
        {
          "output_type": "stream",
          "name": "stdout",
          "text": [
            "313/313 [==============================] - 1s 3ms/step - loss: 1.8677 - accuracy: 0.6127\n"
          ]
        }
      ]
    },
    {
      "cell_type": "code",
      "source": [
        "score"
      ],
      "metadata": {
        "colab": {
          "base_uri": "https://localhost:8080/"
        },
        "id": "x8heLbJAt7WB",
        "outputId": "0ab56697-5408-4a91-b6b1-2ed54d5a466b"
      },
      "execution_count": 335,
      "outputs": [
        {
          "output_type": "execute_result",
          "data": {
            "text/plain": [
              "{'accuracy': 0.6126999855041504, 'loss': 1.8676632642745972}"
            ]
          },
          "metadata": {},
          "execution_count": 335
        }
      ]
    },
    {
      "cell_type": "markdown",
      "source": [
        "####Visualize the predictions"
      ],
      "metadata": {
        "id": "FVs7iGvWyxH2"
      }
    },
    {
      "cell_type": "code",
      "source": [
        "def show_images(samples, predicted):\n",
        "  fig = plt.figure(figsize=(6, 6))\n",
        "  for i, image in enumerate(samples):\n",
        "    plt.subplot(3, 3, i+1)\n",
        "    image = image.reshape(28, 28) * 255\n",
        "    plt.imshow(image, cmap='gray', interpolation='none')\n",
        "    plt.title(f\"Predicted {predicted[i]}\")\n",
        "    plt.grid(False)\n",
        "    plt.xticks([])\n",
        "\n",
        "  plt.tight_layout()\n",
        "  fig.show();"
      ],
      "metadata": {
        "id": "625z5HaBuB2l"
      },
      "execution_count": 336,
      "outputs": []
    },
    {
      "cell_type": "markdown",
      "source": [
        ""
      ],
      "metadata": {
        "id": "EXodpnvRy4ZX"
      }
    },
    {
      "cell_type": "code",
      "source": [
        "show_images(x_test[:SAMPLES], prediction_classes)"
      ],
      "metadata": {
        "colab": {
          "base_uri": "https://localhost:8080/",
          "height": 303
        },
        "id": "HDBuoI9QuFWG",
        "outputId": "35769dd8-0fb8-4fe7-d3c7-0ea380044c2b"
      },
      "execution_count": 337,
      "outputs": [
        {
          "output_type": "display_data",
          "data": {
            "image/png": "[encoded data removed]",
            "text/plain": [
              "<Figure size 432x432 with 6 Axes>"
            ]
          },
          "metadata": {
            "needs_background": "light"
          }
        }
      ]
    },
    {
      "cell_type": "code",
      "source": [
        ""
      ],
      "metadata": {
        "id": "B0HUsaRZuI31"
      },
      "execution_count": null,
      "outputs": []
    }
  ]
}